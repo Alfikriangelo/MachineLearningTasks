{
  "cells": [
    {
      "cell_type": "markdown",
      "metadata": {
        "id": "view-in-github",
        "colab_type": "text"
      },
      "source": [
        "<a href=\"https://colab.research.google.com/github/Alfikriangelo/MachineLearningTasks/blob/main/10thWeekTask/RegressionMLP.ipynb\" target=\"_parent\"><img src=\"https://colab.research.google.com/assets/colab-badge.svg\" alt=\"Open In Colab\"/></a>"
      ]
    },
    {
      "cell_type": "code",
      "execution_count": null,
      "metadata": {
        "id": "TA07j4Gxii4f"
      },
      "outputs": [],
      "source": [
        "import numpy as np\n",
        "import pandas as pd\n",
        "import torch\n",
        "import torch.nn as nn\n",
        "import torch.optim as optim\n",
        "from sklearn.model_selection import train_test_split\n",
        "from sklearn.preprocessing import MinMaxScaler\n",
        "from sklearn.metrics import mean_squared_error, r2_score"
      ]
    },
    {
      "cell_type": "code",
      "execution_count": null,
      "metadata": {
        "id": "BOHrSJ6hkUZQ"
      },
      "outputs": [],
      "source": [
        "# Definisikan MLP untuk regresi\n",
        "class MLPRegression(nn.Module):\n",
        "    def __init__(self, input_size, hidden_layers, activation_function):\n",
        "        super(MLPRegression, self).__init__()\n",
        "\n",
        "        # Daftar untuk layer-layer MLP\n",
        "        layers = []\n",
        "        prev_size = input_size\n",
        "        for h in hidden_layers:\n",
        "            layers.append(nn.Linear(prev_size, h))\n",
        "            if activation_function == 'relu':\n",
        "                layers.append(nn.ReLU())\n",
        "            elif activation_function == 'sigmoid':\n",
        "                layers.append(nn.Sigmoid())\n",
        "            elif activation_function == 'tanh':\n",
        "                layers.append(nn.Tanh())\n",
        "            elif activation_function == 'softmax':\n",
        "                layers.append(nn.Softmax(dim=1))\n",
        "            prev_size = h\n",
        "        layers.append(nn.Linear(prev_size, 1))  # Output layer\n",
        "\n",
        "        self.model = nn.Sequential(*layers)\n",
        "\n",
        "    def forward(self, x):\n",
        "        return self.model(x)\n"
      ]
    },
    {
      "cell_type": "code",
      "execution_count": null,
      "metadata": {
        "id": "PAkxXQE5qgOF"
      },
      "outputs": [],
      "source": [
        "# Load dan preprocess data\n",
        "dataset = pd.read_csv(\"sample_data/beijing-pm25.csv\")"
      ]
    },
    {
      "cell_type": "code",
      "execution_count": null,
      "metadata": {
        "colab": {
          "base_uri": "https://localhost:8080/"
        },
        "id": "73ltLYOKqvJG",
        "outputId": "cecd0f8a-695a-42e6-c116-de78d9345f26"
      },
      "outputs": [
        {
          "name": "stdout",
          "output_type": "stream",
          "text": [
            "Jumlah missing value di setiap kolom:\n",
            "No          0\n",
            "year        0\n",
            "month       0\n",
            "day         0\n",
            "hour        0\n",
            "pm2.5    2067\n",
            "DEWP        0\n",
            "TEMP        0\n",
            "PRES        0\n",
            "cbwd        0\n",
            "Iws         0\n",
            "Is          0\n",
            "Ir          0\n",
            "dtype: int64\n"
          ]
        }
      ],
      "source": [
        "# Melihat missing values\n",
        "missing_values = dataset.isnull().sum()\n",
        "print(\"Jumlah missing value di setiap kolom:\")\n",
        "print(missing_values)\n"
      ]
    },
    {
      "cell_type": "code",
      "execution_count": null,
      "metadata": {
        "id": "VK8oPRblqxq-"
      },
      "outputs": [],
      "source": [
        "# Mengisi missing values pada kolom 'pm2.5' menggunakan KNN Imputer\n",
        "imputer = KNNImputer(n_neighbors=3, weights='uniform')\n",
        "dataset[['pm2.5']] = imputer.fit_transform(dataset[['pm2.5']])"
      ]
    },
    {
      "cell_type": "code",
      "execution_count": null,
      "metadata": {
        "colab": {
          "base_uri": "https://localhost:8080/"
        },
        "id": "eUYqZ4MSqzR2",
        "outputId": "7b84bf00-7162-471f-d446-c06ffb5984e8"
      },
      "outputs": [
        {
          "name": "stdout",
          "output_type": "stream",
          "text": [
            "Jumlah missing value di setiap kolom:\n",
            "No       0\n",
            "year     0\n",
            "month    0\n",
            "day      0\n",
            "hour     0\n",
            "pm2.5    0\n",
            "DEWP     0\n",
            "TEMP     0\n",
            "PRES     0\n",
            "cbwd     0\n",
            "Iws      0\n",
            "Is       0\n",
            "Ir       0\n",
            "dtype: int64\n"
          ]
        }
      ],
      "source": [
        "# Memastikan bahwa missing value sudah diisi\n",
        "missing_values = dataset.isnull().sum()\n",
        "print(\"Jumlah missing value di setiap kolom:\")\n",
        "print(missing_values)\n"
      ]
    },
    {
      "cell_type": "code",
      "execution_count": null,
      "metadata": {
        "id": "K1cjK8Ynq7Wx"
      },
      "outputs": [],
      "source": [
        "# Memilih fitur dan target\n",
        "X = dataset[['year', 'month', 'day', 'hour', 'DEWP', 'TEMP', 'PRES', 'Iws', 'Is', 'Ir']].values\n",
        "y = dataset['pm2.5'].values"
      ]
    },
    {
      "cell_type": "code",
      "execution_count": null,
      "metadata": {
        "id": "gdYBJdpTq8-p"
      },
      "outputs": [],
      "source": [
        "# Normalisasi fitur\n",
        "scaler = MinMaxScaler()\n",
        "X = scaler.fit_transform(X)"
      ]
    },
    {
      "cell_type": "code",
      "execution_count": null,
      "metadata": {
        "id": "TyUYZrRNq_gd"
      },
      "outputs": [],
      "source": [
        "# Split data menjadi train dan test\n",
        "X_train, X_test, y_train, y_test = train_test_split(X, y, test_size=0.2, random_state=42)"
      ]
    },
    {
      "cell_type": "code",
      "execution_count": null,
      "metadata": {
        "id": "ZBWKyMBWrCBr"
      },
      "outputs": [],
      "source": [
        "# Konversi ke tensor\n",
        "X_train_tensor = torch.tensor(X_train, dtype=torch.float32)\n",
        "y_train_tensor = torch.tensor(y_train, dtype=torch.float32).view(-1, 1)\n",
        "X_test_tensor = torch.tensor(X_test, dtype=torch.float32)\n",
        "y_test_tensor = torch.tensor(y_test, dtype=torch.float32).view(-1, 1)"
      ]
    },
    {
      "cell_type": "code",
      "execution_count": null,
      "metadata": {
        "id": "yQnJFnXUrD7G"
      },
      "outputs": [],
      "source": [
        "# Daftar parameter yang akan dicoba\n",
        "hidden_layers_options = [\n",
        "    (16, 32, 64)\n",
        "]\n",
        "activation_functions = ['relu', 'sigmoid']\n",
        "epochs = [ 100, 250]\n",
        "learning_rates = [0.1, 0.0001]\n",
        "batch_sizes = [256, 512]\n"
      ]
    },
    {
      "cell_type": "code",
      "execution_count": null,
      "metadata": {
        "id": "gYP51X3rrEtC"
      },
      "outputs": [],
      "source": [
        "# Hasil eksperimen\n",
        "results = []\n",
        "iteration = 1"
      ]
    },
    {
      "cell_type": "code",
      "execution_count": null,
      "metadata": {
        "colab": {
          "background_save": true,
          "base_uri": "https://localhost:8080/"
        },
        "id": "Ie6npjHErKSn",
        "outputId": "fb45a346-b30e-42a9-891c-faadc28d881c"
      },
      "outputs": [
        {
          "name": "stdout",
          "output_type": "stream",
          "text": [
            "Iteration 1: Training with hidden_layers=(16, 32, 64), activation_function=relu, epoch=100, lr=0.1, batch_size=256\n",
            "Iteration 2: Training with hidden_layers=(16, 32, 64), activation_function=relu, epoch=100, lr=0.1, batch_size=512\n",
            "Iteration 3: Training with hidden_layers=(16, 32, 64), activation_function=relu, epoch=100, lr=0.0001, batch_size=256\n",
            "Iteration 4: Training with hidden_layers=(16, 32, 64), activation_function=relu, epoch=100, lr=0.0001, batch_size=512\n",
            "Iteration 5: Training with hidden_layers=(16, 32, 64), activation_function=relu, epoch=250, lr=0.1, batch_size=256\n",
            "Iteration 6: Training with hidden_layers=(16, 32, 64), activation_function=relu, epoch=250, lr=0.1, batch_size=512\n",
            "Iteration 7: Training with hidden_layers=(16, 32, 64), activation_function=relu, epoch=250, lr=0.0001, batch_size=256\n",
            "Iteration 8: Training with hidden_layers=(16, 32, 64), activation_function=relu, epoch=250, lr=0.0001, batch_size=512\n",
            "Iteration 9: Training with hidden_layers=(16, 32, 64), activation_function=sigmoid, epoch=100, lr=0.1, batch_size=256\n",
            "Iteration 10: Training with hidden_layers=(16, 32, 64), activation_function=sigmoid, epoch=100, lr=0.1, batch_size=512\n",
            "Iteration 11: Training with hidden_layers=(16, 32, 64), activation_function=sigmoid, epoch=100, lr=0.0001, batch_size=256\n",
            "Iteration 12: Training with hidden_layers=(16, 32, 64), activation_function=sigmoid, epoch=100, lr=0.0001, batch_size=512\n",
            "Iteration 13: Training with hidden_layers=(16, 32, 64), activation_function=sigmoid, epoch=250, lr=0.1, batch_size=256\n",
            "Iteration 14: Training with hidden_layers=(16, 32, 64), activation_function=sigmoid, epoch=250, lr=0.1, batch_size=512\n",
            "Iteration 15: Training with hidden_layers=(16, 32, 64), activation_function=sigmoid, epoch=250, lr=0.0001, batch_size=256\n",
            "Iteration 16: Training with hidden_layers=(16, 32, 64), activation_function=sigmoid, epoch=250, lr=0.0001, batch_size=512\n"
          ]
        }
      ],
      "source": [
        "# Loop untuk mencocokkan semua kombinasi\n",
        "for hidden_layers in hidden_layers_options:\n",
        "    for activation_function in activation_functions:\n",
        "        for epoch in epochs:\n",
        "            for lr in learning_rates:\n",
        "                for batch_size in batch_sizes:\n",
        "                    print(f\"Iteration {iteration}: Training with hidden_layers={hidden_layers}, activation_function={activation_function}, epoch={epoch}, lr={lr}, batch_size={batch_size}\")\n",
        "                    iteration += 1\n",
        "\n",
        "                    # Membuat model\n",
        "                    model = MLPRegression(X_train.shape[1], hidden_layers, activation_function)\n",
        "                    optimizer = optim.Adam(model.parameters(), lr=lr)\n",
        "                    criterion = nn.MSELoss()\n",
        "\n",
        "                    # Train model\n",
        "                    model.train()\n",
        "                    for e in range(epoch):\n",
        "                        for i in range(0, len(X_train_tensor), batch_size):\n",
        "                            # Batch slicing\n",
        "                            inputs = X_train_tensor[i:i+batch_size]\n",
        "                            targets = y_train_tensor[i:i+batch_size]\n",
        "\n",
        "                            # Forward pass\n",
        "                            optimizer.zero_grad()\n",
        "                            outputs = model(inputs)\n",
        "                            loss = criterion(outputs, targets)\n",
        "\n",
        "                            # Backward pass and optimization\n",
        "                            loss.backward()\n",
        "                            optimizer.step()\n",
        "\n",
        "                    # Evaluasi model\n",
        "                    model.eval()\n",
        "                    with torch.no_grad():\n",
        "                        test_predictions = model(X_test_tensor).numpy()\n",
        "                        y_test_actual = y_test_tensor.numpy()\n",
        "\n",
        "                    # Menghitung R2 dan MSE\n",
        "                    r2 = r2_score(y_test_actual, test_predictions)\n",
        "                    mse = mean_squared_error(y_test_actual, test_predictions)\n",
        "\n",
        "                    # Menyimpan hasil\n",
        "                    results.append({\n",
        "                        'hidden_layers': hidden_layers,\n",
        "                        'activation_function': activation_function,\n",
        "                        'epoch': epoch,\n",
        "                        'learning_rate': lr,\n",
        "                        'batch_size': batch_size,\n",
        "                        'R2': r2,\n",
        "                        'MSE': mse\n",
        "                    })"
      ]
    },
    {
      "cell_type": "code",
      "execution_count": null,
      "metadata": {
        "colab": {
          "background_save": true
        },
        "id": "DMt8jEshrLxa",
        "outputId": "65980b3e-acb1-421b-8d89-4123ddc197c0"
      },
      "outputs": [
        {
          "name": "stdout",
          "output_type": "stream",
          "text": [
            "   hidden_layers activation_function  epoch  learning_rate  batch_size  \\\n",
            "0   (16, 32, 64)                relu    100         0.1000         256   \n",
            "1   (16, 32, 64)                relu    100         0.1000         512   \n",
            "2   (16, 32, 64)                relu    100         0.0001         256   \n",
            "3   (16, 32, 64)                relu    100         0.0001         512   \n",
            "4   (16, 32, 64)                relu    250         0.1000         256   \n",
            "5   (16, 32, 64)                relu    250         0.1000         512   \n",
            "6   (16, 32, 64)                relu    250         0.0001         256   \n",
            "7   (16, 32, 64)                relu    250         0.0001         512   \n",
            "8   (16, 32, 64)             sigmoid    100         0.1000         256   \n",
            "9   (16, 32, 64)             sigmoid    100         0.1000         512   \n",
            "10  (16, 32, 64)             sigmoid    100         0.0001         256   \n",
            "11  (16, 32, 64)             sigmoid    100         0.0001         512   \n",
            "12  (16, 32, 64)             sigmoid    250         0.1000         256   \n",
            "13  (16, 32, 64)             sigmoid    250         0.1000         512   \n",
            "14  (16, 32, 64)             sigmoid    250         0.0001         256   \n",
            "15  (16, 32, 64)             sigmoid    250         0.0001         512   \n",
            "\n",
            "          R2           MSE  \n",
            "0   0.495991   4000.918701  \n",
            "1   0.569329   3418.749512  \n",
            "2   0.306729   5503.315430  \n",
            "3   0.212305   6252.869141  \n",
            "4   0.558820   3502.169434  \n",
            "5   0.608951   3104.221436  \n",
            "6   0.390004   4842.262207  \n",
            "7   0.365641   5035.665039  \n",
            "8  -0.000327   7940.787109  \n",
            "9   0.635243   2895.506104  \n",
            "10 -0.038769   8245.947266  \n",
            "11 -0.381557  10967.060547  \n",
            "12 -0.000753   7944.168945  \n",
            "13 -0.002067   7954.598633  \n",
            "14  0.029129   7706.959961  \n",
            "15 -0.001545   7950.452148  \n"
          ]
        }
      ],
      "source": [
        "# Menampilkan hasil eksperimen\n",
        "results_df = pd.DataFrame(results)\n",
        "print(results_df)"
      ]
    }
  ],
  "metadata": {
    "colab": {
      "provenance": [],
      "authorship_tag": "ABX9TyN6DYXUfJRcLWTXWYPJ3Cao",
      "include_colab_link": true
    },
    "kernelspec": {
      "display_name": "Python 3",
      "name": "python3"
    },
    "language_info": {
      "name": "python"
    }
  },
  "nbformat": 4,
  "nbformat_minor": 0
}