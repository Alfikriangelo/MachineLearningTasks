{
  "nbformat": 4,
  "nbformat_minor": 0,
  "metadata": {
    "colab": {
      "provenance": [],
      "authorship_tag": "ABX9TyPJAwPOoq+ykQmARU/z/EsE",
      "include_colab_link": true
    },
    "kernelspec": {
      "name": "python3",
      "display_name": "Python 3"
    },
    "language_info": {
      "name": "python"
    }
  },
  "cells": [
    {
      "cell_type": "markdown",
      "metadata": {
        "id": "view-in-github",
        "colab_type": "text"
      },
      "source": [
        "<a href=\"https://colab.research.google.com/github/Alfikriangelo/MachineLearningTasks/blob/main/1stWeekTask/Income_classification.ipynb\" target=\"_parent\"><img src=\"https://colab.research.google.com/assets/colab-badge.svg\" alt=\"Open In Colab\"/></a>"
      ]
    },
    {
      "cell_type": "code",
      "execution_count": 69,
      "metadata": {
        "id": "rb0pApOiTV8n"
      },
      "outputs": [],
      "source": [
        "#import library\n",
        "import torch\n",
        "import torch.nn as nn\n",
        "import torch.optim as optim\n",
        "from torch.utils.data import DataLoader, TensorDataset\n",
        "import tensorflow as tf\n",
        "from tensorflow import keras\n",
        "from tensorflow.keras import layers\n",
        "import pandas as pd\n",
        "import numpy as np\n",
        "from sklearn.model_selection import train_test_split\n",
        "from sklearn.preprocessing import LabelEncoder, StandardScaler\n",
        "from sklearn.metrics import accuracy_score, precision_score, recall_score, f1_score, roc_auc_score, roc_curve\n",
        "import matplotlib.pyplot as plt"
      ]
    },
    {
      "cell_type": "code",
      "source": [
        "# Memuat dataset\n",
        "file_path = \"sample_data/income.csv\"\n",
        "df = pd.read_csv(file_path)"
      ],
      "metadata": {
        "id": "OBKNTMOGWaKt"
      },
      "execution_count": 70,
      "outputs": []
    },
    {
      "cell_type": "code",
      "source": [
        "# Membersihkan kolom target\n",
        "if 'income' in df.columns:\n",
        "    df['income'] = df['income'].str.replace('.', '', regex=False)\n",
        "    df['income'] = df['income'].map({'<=50K': 0, '>50K': 1})"
      ],
      "metadata": {
        "id": "NXgbqISEXBlR"
      },
      "execution_count": 71,
      "outputs": []
    },
    {
      "cell_type": "code",
      "source": [
        "# Mengenkripsi variabel kategorikal\n",
        "label_encoders = {}\n",
        "for column in df.select_dtypes(include=['object']).columns:\n",
        "    le = LabelEncoder()\n",
        "    df[column] = le.fit_transform(df[column])\n",
        "    label_encoders[column] = le"
      ],
      "metadata": {
        "id": "4HrBs3sSXEZY"
      },
      "execution_count": 72,
      "outputs": []
    },
    {
      "cell_type": "code",
      "source": [
        "# Mendefinisikan fitur dan target\n",
        "X = df.drop(columns=['income'])\n",
        "y = df['income']"
      ],
      "metadata": {
        "id": "lE-mMJnBXGTC"
      },
      "execution_count": 73,
      "outputs": []
    },
    {
      "cell_type": "code",
      "source": [
        "# Membagi data menjadi data latih dan data uji\n",
        "X_train, X_test, y_train, y_test = train_test_split(X, y, test_size=0.2, random_state=42, stratify=y)"
      ],
      "metadata": {
        "id": "vqG5jFy9XIBi"
      },
      "execution_count": 74,
      "outputs": []
    },
    {
      "cell_type": "code",
      "source": [
        "# Menormalisasi fitur numerik\n",
        "scaler = StandardScaler()\n",
        "X_train = scaler.fit_transform(X_train)\n",
        "X_test = scaler.transform(X_test)"
      ],
      "metadata": {
        "id": "9IrNZ7FKXJtM"
      },
      "execution_count": 75,
      "outputs": []
    },
    {
      "cell_type": "code",
      "source": [
        "# Mengonversi data ke dalam bentuk tensor PyTorch\n",
        "X_train_tensor = torch.tensor(X_train, dtype=torch.float32)\n",
        "y_train_tensor = torch.tensor(y_train.values, dtype=torch.float32).unsqueeze(1)\n",
        "X_test_tensor = torch.tensor(X_test, dtype=torch.float32)\n",
        "y_test_tensor = torch.tensor(y_test.values, dtype=torch.float32).unsqueeze(1)"
      ],
      "metadata": {
        "id": "h1RH102lXLnu"
      },
      "execution_count": 76,
      "outputs": []
    },
    {
      "cell_type": "code",
      "source": [
        "# Membuat DataLoader\n",
        "train_dataset = TensorDataset(X_train_tensor, y_train_tensor)\n",
        "test_dataset = TensorDataset(X_test_tensor, y_test_tensor)\n",
        "train_loader = DataLoader(train_dataset, batch_size=32, shuffle=True)\n",
        "test_loader = DataLoader(test_dataset, batch_size=32, shuffle=False)"
      ],
      "metadata": {
        "id": "wZ0-SFQ_XNK2"
      },
      "execution_count": 77,
      "outputs": []
    },
    {
      "cell_type": "code",
      "source": [
        "# Mendefinisikan model PyTorch\n",
        "class IncomeClassifier(nn.Module):\n",
        "    def __init__(self, input_size):\n",
        "        super(IncomeClassifier, self).__init__()\n",
        "        self.fc1 = nn.Linear(input_size, 64)\n",
        "        self.relu = nn.ReLU()\n",
        "        self.fc2 = nn.Linear(64, 32)\n",
        "        self.fc3 = nn.Linear(32, 1)\n",
        "\n",
        "    def forward(self, x):\n",
        "        x = self.relu(self.fc1(x))\n",
        "        x = self.relu(self.fc2(x))\n",
        "        x = torch.sigmoid(self.fc3(x))\n",
        "        return x"
      ],
      "metadata": {
        "id": "0PyCit5IXPHX"
      },
      "execution_count": 78,
      "outputs": []
    },
    {
      "cell_type": "code",
      "source": [
        "# Inisialisasi model, fungsi loss, dan optimizer\n",
        "input_size = X_train.shape[1]\n",
        "model = IncomeClassifier(input_size)\n",
        "criterion = nn.BCELoss()\n",
        "optimizer = optim.Adam(model.parameters(), lr=0.001)"
      ],
      "metadata": {
        "id": "7ztbyhyqXRLu"
      },
      "execution_count": 79,
      "outputs": []
    },
    {
      "cell_type": "code",
      "source": [
        "# Melatih model PyTorch\n",
        "epochs = 10\n",
        "for epoch in range(epochs):\n",
        "    model.train()\n",
        "    for batch_X, batch_y in train_loader:\n",
        "        optimizer.zero_grad()\n",
        "        outputs = model(batch_X)\n",
        "        loss = criterion(outputs, batch_y)\n",
        "        loss.backward()\n",
        "        optimizer.step()"
      ],
      "metadata": {
        "id": "rFI1159zXS1r"
      },
      "execution_count": 80,
      "outputs": []
    },
    {
      "cell_type": "code",
      "source": [
        "# Mengevaluasi model PyTorch\n",
        "model.eval()\n",
        "y_pred = []\n",
        "y_true = []\n",
        "with torch.no_grad():\n",
        "    for batch_X, batch_y in test_loader:\n",
        "        outputs = model(batch_X)\n",
        "        predicted = (outputs > 0.5).float()\n",
        "        y_pred.extend(predicted.numpy())\n",
        "        y_true.extend(batch_y.numpy())"
      ],
      "metadata": {
        "id": "f0w2F9uRXUht"
      },
      "execution_count": 81,
      "outputs": []
    },
    {
      "cell_type": "code",
      "source": [
        "# Menghitung metrik evaluasi\n",
        "accuracy = accuracy_score(y_true, y_pred)\n",
        "precision = precision_score(y_true, y_pred)\n",
        "recall = recall_score(y_true, y_pred)\n",
        "f1 = f1_score(y_true, y_pred)\n",
        "auc = roc_auc_score(y_true, y_pred)"
      ],
      "metadata": {
        "id": "eT40JpM1XWlg"
      },
      "execution_count": 82,
      "outputs": []
    },
    {
      "cell_type": "code",
      "source": [
        "# Mendefinisikan model TensorFlow\n",
        "tf_model = keras.Sequential([\n",
        "    layers.Dense(64, activation='relu', input_shape=(input_size,)),\n",
        "    layers.Dense(32, activation='relu'),\n",
        "    layers.Dense(1, activation='sigmoid')\n",
        "])"
      ],
      "metadata": {
        "colab": {
          "base_uri": "https://localhost:8080/"
        },
        "id": "5M8XScn8XYjH",
        "outputId": "ea980138-1696-4c75-abe0-79d7f72abfbd"
      },
      "execution_count": 83,
      "outputs": [
        {
          "output_type": "stream",
          "name": "stderr",
          "text": [
            "/usr/local/lib/python3.11/dist-packages/keras/src/layers/core/dense.py:87: UserWarning: Do not pass an `input_shape`/`input_dim` argument to a layer. When using Sequential models, prefer using an `Input(shape)` object as the first layer in the model instead.\n",
            "  super().__init__(activity_regularizer=activity_regularizer, **kwargs)\n"
          ]
        }
      ]
    },
    {
      "cell_type": "code",
      "source": [
        "# Mengompilasi model TensorFlow\n",
        "tf_model.compile(optimizer='adam', loss='binary_crossentropy', metrics=['accuracy'])"
      ],
      "metadata": {
        "id": "LJ_a8zzOXaGs"
      },
      "execution_count": 84,
      "outputs": []
    },
    {
      "cell_type": "code",
      "source": [
        "# Melatih model TensorFlow\n",
        "tf_model.fit(X_train, y_train, epochs=10, batch_size=32, verbose=1, validation_data=(X_test, y_test))"
      ],
      "metadata": {
        "colab": {
          "base_uri": "https://localhost:8080/"
        },
        "id": "VvGIZQlNXbWw",
        "outputId": "466686f9-4a20-483c-987c-8476a0ed4439"
      },
      "execution_count": 85,
      "outputs": [
        {
          "output_type": "stream",
          "name": "stdout",
          "text": [
            "Epoch 1/10\n",
            "\u001b[1m1222/1222\u001b[0m \u001b[32m━━━━━━━━━━━━━━━━━━━━\u001b[0m\u001b[37m\u001b[0m \u001b[1m6s\u001b[0m 4ms/step - accuracy: 0.8114 - loss: 0.3970 - val_accuracy: 0.8433 - val_loss: 0.3306\n",
            "Epoch 2/10\n",
            "\u001b[1m1222/1222\u001b[0m \u001b[32m━━━━━━━━━━━━━━━━━━━━\u001b[0m\u001b[37m\u001b[0m \u001b[1m4s\u001b[0m 3ms/step - accuracy: 0.8464 - loss: 0.3262 - val_accuracy: 0.8500 - val_loss: 0.3237\n",
            "Epoch 3/10\n",
            "\u001b[1m1222/1222\u001b[0m \u001b[32m━━━━━━━━━━━━━━━━━━━━\u001b[0m\u001b[37m\u001b[0m \u001b[1m3s\u001b[0m 3ms/step - accuracy: 0.8476 - loss: 0.3250 - val_accuracy: 0.8468 - val_loss: 0.3242\n",
            "Epoch 4/10\n",
            "\u001b[1m1222/1222\u001b[0m \u001b[32m━━━━━━━━━━━━━━━━━━━━\u001b[0m\u001b[37m\u001b[0m \u001b[1m4s\u001b[0m 3ms/step - accuracy: 0.8528 - loss: 0.3187 - val_accuracy: 0.8501 - val_loss: 0.3203\n",
            "Epoch 5/10\n",
            "\u001b[1m1222/1222\u001b[0m \u001b[32m━━━━━━━━━━━━━━━━━━━━\u001b[0m\u001b[37m\u001b[0m \u001b[1m4s\u001b[0m 3ms/step - accuracy: 0.8509 - loss: 0.3166 - val_accuracy: 0.8507 - val_loss: 0.3175\n",
            "Epoch 6/10\n",
            "\u001b[1m1222/1222\u001b[0m \u001b[32m━━━━━━━━━━━━━━━━━━━━\u001b[0m\u001b[37m\u001b[0m \u001b[1m3s\u001b[0m 3ms/step - accuracy: 0.8520 - loss: 0.3143 - val_accuracy: 0.8505 - val_loss: 0.3181\n",
            "Epoch 7/10\n",
            "\u001b[1m1222/1222\u001b[0m \u001b[32m━━━━━━━━━━━━━━━━━━━━\u001b[0m\u001b[37m\u001b[0m \u001b[1m6s\u001b[0m 3ms/step - accuracy: 0.8547 - loss: 0.3142 - val_accuracy: 0.8502 - val_loss: 0.3183\n",
            "Epoch 8/10\n",
            "\u001b[1m1222/1222\u001b[0m \u001b[32m━━━━━━━━━━━━━━━━━━━━\u001b[0m\u001b[37m\u001b[0m \u001b[1m4s\u001b[0m 2ms/step - accuracy: 0.8531 - loss: 0.3132 - val_accuracy: 0.8510 - val_loss: 0.3165\n",
            "Epoch 9/10\n",
            "\u001b[1m1222/1222\u001b[0m \u001b[32m━━━━━━━━━━━━━━━━━━━━\u001b[0m\u001b[37m\u001b[0m \u001b[1m5s\u001b[0m 3ms/step - accuracy: 0.8534 - loss: 0.3162 - val_accuracy: 0.8513 - val_loss: 0.3183\n",
            "Epoch 10/10\n",
            "\u001b[1m1222/1222\u001b[0m \u001b[32m━━━━━━━━━━━━━━━━━━━━\u001b[0m\u001b[37m\u001b[0m \u001b[1m5s\u001b[0m 2ms/step - accuracy: 0.8536 - loss: 0.3117 - val_accuracy: 0.8495 - val_loss: 0.3203\n"
          ]
        },
        {
          "output_type": "execute_result",
          "data": {
            "text/plain": [
              "<keras.src.callbacks.history.History at 0x7f82fd6940d0>"
            ]
          },
          "metadata": {},
          "execution_count": 85
        }
      ]
    },
    {
      "cell_type": "code",
      "source": [
        "# Mengevaluasi model TensorFlow\n",
        "y_pred_tf = (tf_model.predict(X_test) > 0.5).astype('int32')\n",
        "accuracy_tf = accuracy_score(y_test, y_pred_tf)\n",
        "precision_tf = precision_score(y_test, y_pred_tf)\n",
        "recall_tf = recall_score(y_test, y_pred_tf)\n",
        "f1_tf = f1_score(y_test, y_pred_tf)\n",
        "auc_tf = roc_auc_score(y_test, y_pred_tf)"
      ],
      "metadata": {
        "colab": {
          "base_uri": "https://localhost:8080/"
        },
        "id": "at6kFXG1XdwJ",
        "outputId": "cbf35cdf-85fe-45a8-fb43-9c8caeb3ac8a"
      },
      "execution_count": 86,
      "outputs": [
        {
          "output_type": "stream",
          "name": "stdout",
          "text": [
            "\u001b[1m306/306\u001b[0m \u001b[32m━━━━━━━━━━━━━━━━━━━━\u001b[0m\u001b[37m\u001b[0m \u001b[1m0s\u001b[0m 1ms/step\n"
          ]
        }
      ]
    },
    {
      "cell_type": "markdown",
      "source": [
        "**1. Accuracy (Akurasi)**\n",
        "\n",
        "\n",
        "![image.png](data:image/png;base64,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)\n",
        "\n",
        "\n",
        "\n",
        "Penjelasan:\n",
        "\n",
        "- Akurasi mengukur seberapa sering model memprediksi dengan benar.\n",
        "- TP (True Positive): Prediksi positif yang benar.\n",
        "- TN (True Negative): Prediksi negatif yang benar.\n",
        "- FP (False Positive): Prediksi positif yang salah.\n",
        "- FN (False Negative): Prediksi negatif yang salah.\n",
        "- Semakin tinggi akurasi, semakin baik model dalam mengklasifikasikan data.\n",
        "\n"
      ],
      "metadata": {
        "id": "T3Q_qfktXzMY"
      }
    },
    {
      "cell_type": "markdown",
      "source": [
        "**2. Precision (Presisi)**\n",
        "\n",
        "\n",
        "![image.png](data:image/png;base64,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)\n",
        "\n",
        "\n",
        "\n",
        "Penjelasan:\n",
        "\n",
        "- Presisi mengukur seberapa banyak prediksi positif yang benar dibandingkan dengan semua prediksi positif yang dibuat oleh model.\n",
        "- Berguna dalam kasus ketika FP (False Positive) harus dikurangi, misalnya dalam deteksi penyakit."
      ],
      "metadata": {
        "id": "mpnDtDhlYwDh"
      }
    },
    {
      "cell_type": "markdown",
      "source": [
        "**3. Recall (Sensitivitas)**\n",
        "\n",
        "![image.png](data:image/png;base64,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)\n",
        "\n",
        "\n",
        "Penjelasan:\n",
        "\n",
        "- Recall mengukur seberapa banyak dari total kasus positif yang berhasil dideteksi oleh model.\n",
        "- Berguna dalam kasus di mana FN (False Negative) harus dikurangi, misalnya dalam deteksi kanker."
      ],
      "metadata": {
        "id": "5V0ez3o3ZImG"
      }
    },
    {
      "cell_type": "markdown",
      "source": [
        "**4. F1 Score**\n",
        "\n",
        "\n",
        "![image.png](data:image/png;base64,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)\n",
        "\n",
        "\n",
        "Penjelasan:\n",
        "- F1 Score adalah rata-rata harmonik dari Precision dan Recall.\n",
        "- Berguna jika kita ingin keseimbangan antara Precision dan Recall."
      ],
      "metadata": {
        "id": "SQn9P_1zZXbS"
      }
    },
    {
      "cell_type": "markdown",
      "source": [
        "**5. Area Under Curve (AUC-ROC)**\n",
        "\n",
        "\n",
        "![image.png](data:image/png;base64,iVBORw0KGgoAAAANSUhEUgAAANkAAAAzCAYAAAAaYa2SAAAAAXNSR0IArs4c6QAAAARnQU1BAACxjwv8YQUAAAAJcEhZcwAAFiUAABYlAUlSJPAAAA4xSURBVHhe7d0FrFxFG4DhaYu7u7u7u7u7Q4MGCZAQLEjR4AQSCBKCSyB4cHd3J7i7u/XnGc7c//T07F7d3sLOm9zc7uzsnJHP5pvZ2wEzzjjj0JDJZFrGwOJ3JpNpEVnJMpkWk5Usk2kxWckymRaTlaybrLLKKmHJJZcsXmUynZOVrItsu+224eKLLw4HH3xwmG+++YrSTKZzspJ1EQp22mmnhW+//bYoyWS6RlayTKbFZCWrYd555w37779/2GqrrcJYY41VlGYyPSMrWYVFFlkkHHnkkWGiiSYK66+/fthzzz2LdzKZnpGVrMIGG2wQBg4cGD788MMwzTTThGmnnbZ4J5PpGYMmnHDCIcW/25655porhogU7Pjjjw+vvvpquO2228LXX38dNt544zB48OAw5ZRThqmnnjrMPPPM4YEHHig+mck0Jl8QLrHddtuFHXfcMVxzzTUxk5jJ9AU5XCwx++yzh7/++it6sEymr8hKViCLOMsss4TvvvsuvP/++0VpJtN7spIVLLXUUmHiiScOn3/+eXj55ZeL0kym92QlK5DI4M2yF8v0NVnJCqabbrr4+7PPPou//83Ikvrpb2aaaaawwAILFK96DyO4+OKLjxQXBPRjsskmK141p9PsoolyKfahhx4K559/fiwzyCWWWCKMMcYY8TXc6VPH4s4wwwxF6T9C++STTxav/s8KK6wQVlpppfD388M333wTbrnllphwWHfddfsls3f55ZeHqaaaKqbub7755qK0e5h0QjXKKKMUJcPzyy+/hEcffTTOU90i/fHHH+HZZ5/tUPall146jD/++PHfZd55553asNZRg7O+s846K65HolE7ibROjeqlfv/000/xdVf6RXYOOOCA2O65554byzqDbC2zzDJhwQUXDD/88EM444wzOsqPOeaYeJziskDCM2adddYwaNCgomRY0nyOM844DetV+1xXrzr+3XbbLcw///zhxBNPDG+99VYsa0Sn52Q777xzWG655cJ7773XsWhzzDFHWHnlleNirrHGGlHZ0mAo30YbbRQ23HDDuMf5+eefw3PPPRc/B1eWjjvuuKhMzqPuuOOO8NVXX4X11lsv3rAYbbTRwk033VTUHjEsu+yycRwm0rM/+uij4p3usccee4RddtklzDbbbGHuueeOc7TqqqvGUHSeeeaJ+77VVlstjttrhmazzTaL8zTeeONF47TWWmuFrbfeOrZHoNT3Y64JipsoCy20UNh+++3D8ssvH1544YVYDwRkr732Cvfff3+49tprYxl46XXWWSeuifYZk7HHHjs+TxveU6atuucROq833XTT+KzffvutS/0ifAyO59rrEubOcA655pprxvVAkgVzax5POeWUYS5pU0hyw7gsuuiiYfTRRw+TTz55NHbaYMjffvvtWKZfW2yxRXzPhQOXDayJPluzRx55JHqoaj3ztPbaa8dzUu0//fTT0XCYS+t81113Fb2pp6mSEQJf8bAgb7zxRlw8sHrvvvtuWH311aMSnXDCCVFZ8Prrr8cB6QyBKysY63fYYYfFjg8ZMiRceuml4bXXXot1WEXvP/7448NY4BGBcTIOX375ZTj99NOL0u5jEczDfvvtF66++uoohMZ67LHHxnY/+OCDmMG8++67w/XXXx+faaF5URZbOUGk9BTGQfitt94aF3PMMccMZ555Zrjwwguj4E0wwQSx39pP87XrrrtGhfW833//PZaBUD744IOxnVFHHTWceuqpsR3P00/CK6t6ww03REGrPs+Yvv/++7DiiiuGSSedNFxyySW19er6JTrxOeM2ns7QV20QdoKsDYaZHN5+++3hvvvuK2r+A3mj4AsvvHCse9BBB4V77703RiMcAwPhM8aqnnbJ2KGHHhrrWYfFFlssfp6xv+6664ar57PGS2Ed8zz//PPRaPB2FJnhefPNN4seDU/TPZlJfOaZZ6IiUZwyXOXfChqtcjVsofkGWIY13X333aPXsyhPPfVU8c4/6KSOv/LKK0XJiIOg86C92Y/5MqczthtvvDG+pijm7IsvvgiPPfZYLBPy8JYpfDYnhJegJMYdd9yoCClcEVYSbAagfMOE51MnhabaEmJZixTSlHEnk/CkdvSFIPktLLPGaPQ8gk9x/KCr/QIjSpEZ0a7AwJjLJAs8i/aqMpOYfvrp4+/kKfXNjzEZmzkGudT/qkfliZHGVldPaE9G9MNv8GDW01o3o6GScZcWJQlINUY1ER7IE1XxuWq5ENL+i3VgQarwfCxJM4vQKtL9xI8//jj+7gk8BwVLxsVYCbAIICEMTdY8KaFnCrMTlEHkICTRlrCSMSvH/eaeQlHgZNnnnHPOqKCN9geETrSQ3vd8W4FJJpkkKnla57rnwfPQrF5dv2BNGQ59aASDfvbZZ0cDzHP9+OOPHbLAe1BmIWgdQj2GJV0i2GGHHWKYTsHso5ITqNaDaEyoLKusLurqCUvN3xNPPNGxXuqIThiQZtTu0AkH68FCaURnTWgZA7cPqy6GxSMk5XLt+cq++pSsjjvvvDP+NMKVpxR+NcNzDznkkOJV5/AAU0wxRdxnGGtPqYYx5gf2AwlCkgSFEgq1PvnkkyhgsKew/2WETj755FjGqjJm5v+II46InkIIRHnPO++8jvbUGzBgQDRUdbD2DKV2JBBEIjwFRS5HHcmKE2r98mxrqr5QKiUwutovULo///wzer46Dj/88KicwljKa09KkJNy8CKN1iZ5aLIlmthmm22i0RRaUpKkKMnzCu0YI2NzB9VeS//s9cxDqpfao4TJYBq7sLiMebLW9m9lY1mmVmLtpbjBcoNl4SaYNqji56rn0SHlKSSCjnPJ3HZ5QbvDRRddFCfQBd5mP91RMLBaJt14e5rwqCOFgnWeHhaG0JsXYZsfffA9NvuKFPLpHyNnv8GLCIEI9EsvvTSMIAvDGQqZ2jq0oz/a8Vmet05w1aMQvKw+2auYl5122imcdNJJRa2u9wuEj2eqM5AiJns2XoShIh/mIYVq5lF4lpI7VZKHpkz6oV41BEfyvMad5psMX3DBBWHzzTfvCEVTvdSesQiV9f+ee+6JdcpQMm0yOI0Y7h2WgRfT8ZTK9m94j/IITTxYR6r7McJT3dsIBXWCANRpOyvButo4N/NmrSB5FH2uLkxPSaHgp59+2hFeVSE8BEISoWyQyiSraiEliRL2Nil8S4geGi10svaeJ+tIgSUnkpVPpOfxrrxTUvQq3elXZ/DcvEaaAyHn0KFDO/qm32kPVAcPzYMzZuSVF6PMVWOePLToTFjaiFSPl0/yTx9kESlgT5zEcKZFSlayQyaFS/XD4nlw2peJYcXYkh5lTBDhqoaE4l0LxtpaoCrS9xTx4YcfLkqGh5cikJdddlnTH8LRHYzFIhKsnnrZKo44Uka2jqSEQrtGCoa6fY8QhzLxNmUIPE9WR7L2+pMUR7RSzfal51nvRgqG7vQLjGidF4NsaNnzyELykAxUCsG8bgSPysskY0+BRANV1OMhO9vzq2fsZQNkrBIxdWMzLkrejGFG7qyBJpfPWGABTZQJgQkxMB4g4f299947KlR18QivjbzPCw3KsBIUmkVstrAUqCvhovi+O9iPsZx9eZ3KHGqzvB8rQ+gpYWeeU1RgEctZLsrJKBBCHspFAQjXtFl3wM1bE4RqVq1KCmH7sl8wXu9RpirKGAcywhNKIghPGXd7InifMawi5JO4IZ/lDGcV/REaqtfMkJfrpfaUCYPJpnIZcnqSINPWullmOp6TachZl0NJWuvH2UgqZ5l5GpaFN7IBFu7IuNgQUxSZKlbChr18RpNgsbVjI0nRtCUWlhARFzebpFZhDA5YjUm8XT7T6y4EydmfQ1P/5umN11htrCkxIRIWC5HMJ8HhFdIZY4KAudXgcJdwEjx9ZKgIuM8QPH+aTghoX2RvZy4dgyTvSBiOOuqoONf6ox1nQjxaOUGinr4L9TxPRELYtFumJ/0COfJc46wqsH55rqSPEJaxILjm56qrrooKZ18oDLSdSLJFzhhVsmrs+mZvLQorQ34lUrTJCJFZUUt1P3r00UfH5Jp62nNIbZ6Mw2eErQwVeZdFTkq15ZZbRkPBCTSiV1/aJEwmhlejJNVMYx3pMxbH4XazcKnVCNscNoIw9oei9wRCS9AtNIOXOOecc+Ja7LvvvkXJiKVRvw488MC47q4i1UUrvC8FffHFF2NoSOEYpSRPm2yySVQAB/ZdOdDua/SPAXOe6vpf6pejBpcrKD9H0Yi2/ma0K03+UI6zqsGDBzcNV/8NyNSJDmQBq16ov+AVeW/HEs0SDs2wFXGfVSja3exxK9lnn32iUdGnZvv5+t1om2DvJCzpbKP/b+GKK66IiQIh8MiC61A8mz8O21OsDU9hvSTJRgaE/jyua1mdJczaWsls1mWN+iqrODLgVrgsmnuM/U26/MwL9daI8cxXXnllvMnh0Lu/cYOJd3b3szPaOlxkXcXZvhXQH7F+pj1oW08m4yZj5IC8Py4lZ9qHtlUyoaINtf1YOVyULpadkwHNZPqCtlUyWS83FMq3MpwXOVB3e8D5h4PHTKa3tK2S2Yv9+uuv8UJrwkF5urFC0RxI8naZTG9oSyWjOO7IOfkvX7Nxv8+NA8jQuSHgEDWT6Q1to2QUy58AkOK233Idx9fI/wvnY5mRm7ZRMrer3bXz1QjXqVw/ckUmk2k1baNkbkL4UmC6uOvP21W/XOiWNQ+HFDpWvy+XyXSX/L+6lHBlx5UkHs7XLPyFoq7+vcBMphFZySpI7bu2I8uYvVimL8hKlsm0mLY9J8tkRhRZyTKZFpOVLJNpMVnJMpkWk5Usk2kpIfwPmG4S/B+PmjsAAAAASUVORK5CYII=)\n",
        "\n",
        "\n",
        "\n",
        "Penjelasan:\n",
        "- AUC-ROC (Area Under the Receiver Operating Characteristic Curve) mengukur kemampuan model dalam membedakan antara kelas positif dan negatif di berbagai threshold.\n",
        "- Semakin tinggi nilai AUC, semakin baik model dalam memisahkan kelas."
      ],
      "metadata": {
        "id": "NNnGCo5jZrFA"
      }
    },
    {
      "cell_type": "code",
      "source": [
        "# Menampilkan hasil evaluasi\n",
        "print(\"Model PyTorch:\")\n",
        "print(f\"Akurasi: {accuracy}, Presisi: {precision}, Recall: {recall}, F1 Score: {f1}, AUC: {auc}\")\n",
        "print(\"\\nModel TensorFlow:\")\n",
        "print(f\"Akurasi: {accuracy_tf}, Presisi: {precision_tf}, Recall: {recall_tf}, F1 Score: {f1_tf}, AUC: {auc_tf}\")"
      ],
      "metadata": {
        "colab": {
          "base_uri": "https://localhost:8080/"
        },
        "id": "AUqnqfUyXhQp",
        "outputId": "524beb85-ad1e-43ac-bb9d-528e18aaa884"
      },
      "execution_count": 87,
      "outputs": [
        {
          "output_type": "stream",
          "name": "stdout",
          "text": [
            "Model PyTorch:\n",
            "Akurasi: 0.8546422356433616, Presisi: 0.7709563164108618, Recall: 0.5585970915312233, F1 Score: 0.6478174603174603, AUC: 0.7531916960818544\n",
            "\n",
            "Model TensorFlow:\n",
            "Akurasi: 0.8495240045040434, Presisi: 0.7152777777777778, Recall: 0.6167664670658682, F1 Score: 0.662379421221865, AUC: 0.7697612445677882\n"
          ]
        }
      ]
    },
    {
      "cell_type": "markdown",
      "source": [
        "Dari hasil perbandingan:  \n",
        "\n",
        "- **Akurasi PyTorch (85.46%) sedikit lebih tinggi dibandingkan TensorFlow (84.95%)**, menunjukkan bahwa model PyTorch lebih sering memberikan prediksi yang benar secara keseluruhan.  \n",
        "- **Presisi PyTorch (0.7709) lebih tinggi dibandingkan TensorFlow (0.7153)**, artinya model PyTorch lebih baik dalam menghindari kesalahan positif (False Positives).  \n",
        "- **Recall TensorFlow (0.6168) lebih tinggi dibandingkan PyTorch (0.5586)**, menunjukkan bahwa model TensorFlow lebih baik dalam menangkap lebih banyak kasus positif dan mengurangi kesalahan negatif (False Negatives).  \n",
        "- **F1 Score TensorFlow (0.6624) lebih tinggi dibandingkan PyTorch (0.6478)**, menunjukkan bahwa model TensorFlow memiliki keseimbangan presisi dan recall yang lebih baik.  \n",
        "- **AUC TensorFlow (0.7698) lebih tinggi dibandingkan PyTorch (0.7532)**, menunjukkan bahwa model TensorFlow memiliki performa pemisahan kelas yang sedikit lebih baik secara keseluruhan.\n",
        "\n",
        "\n",
        "\n",
        "Secara keseluruhan, TensorFlow lebih unggul dalam keseimbangan performa dan generalisasi, sementara PyTorch lebih baik dalam prediksi yang lebih presisi. Pemilihan model tergantung pada kebutuhan spesifik dan trade-off antara presisi dan recall."
      ],
      "metadata": {
        "id": "2ufZVzWZZ_VM"
      }
    },
    {
      "cell_type": "code",
      "source": [
        "# Membuat kurva ROC\n",
        "def plot_roc(y_test, y_pred_proba, label):\n",
        "    fpr, tpr, _ = roc_curve(y_test, y_pred_proba)\n",
        "    plt.plot(fpr, tpr, label=label)\n",
        "\n",
        "plt.figure(figsize=(8, 6))\n",
        "plot_roc(y_true, y_pred, \"PyTorch\")\n",
        "plot_roc(y_test, y_pred_tf, \"TensorFlow\")\n",
        "plt.plot([0, 1], [0, 1], 'k--')\n",
        "plt.xlabel(\"False Positive Rate\")\n",
        "plt.ylabel(\"True Positive Rate\")\n",
        "plt.title(\"Perbandingan Kurva ROC\")\n",
        "plt.legend()\n",
        "plt.show()"
      ],
      "metadata": {
        "colab": {
          "base_uri": "https://localhost:8080/",
          "height": 564
        },
        "id": "Rz2oi4H4XjJ5",
        "outputId": "8279966e-0af1-4912-b76d-4ad1a4828442"
      },
      "execution_count": 88,
      "outputs": [
        {
          "output_type": "display_data",
          "data": {
            "text/plain": [
              "<Figure size 800x600 with 1 Axes>"
            ],
            "image/png": "[encoded data removed]"
          },
          "metadata": {}
        }
      ]
    },
    {
      "cell_type": "markdown",
      "source": [
        "Dari perbanding kurva ROC ini, menunjukkan bahwa hasil dari tensorflow sedikit lebih baik dibandingkan PyTorch"
      ],
      "metadata": {
        "id": "2yXM9Fg5c7b4"
      }
    }
  ]
}